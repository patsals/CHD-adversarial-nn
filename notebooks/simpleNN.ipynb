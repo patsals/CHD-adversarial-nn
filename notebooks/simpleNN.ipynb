{
 "cells": [
  {
   "cell_type": "markdown",
   "metadata": {},
   "source": [
    "# Neural Network"
   ]
  },
  {
   "cell_type": "markdown",
   "metadata": {},
   "source": [
    "# Library Imports"
   ]
  },
  {
   "cell_type": "code",
   "execution_count": 16,
   "metadata": {},
   "outputs": [],
   "source": [
    "import matplotlib.pyplot as plt\n",
    "import tensorflow as tf\n",
    "import keras\n",
    "from tensorflow.keras.models import Sequential\n",
    "from tensorflow.keras.layers import Dense, Dropout\n",
    "from tensorflow.keras.callbacks import EarlyStopping\n",
    "from sklearn.model_selection import train_test_split\n",
    "from sklearn.preprocessing import StandardScaler, MinMaxScaler, LabelEncoder, OneHotEncoder\n",
    "from sklearn.metrics import classification_report, roc_auc_score,accuracy_score, precision_score, recall_score, f1_score\n",
    "import pandas as pd\n",
    "import numpy as np\n",
    "from aif360.metrics import ClassificationMetric\n",
    "from aif360.datasets import BinaryLabelDataset\n"
   ]
  },
  {
   "cell_type": "markdown",
   "metadata": {},
   "source": [
    "# Load and Pre-processing Data Function\n"
   ]
  },
  {
   "cell_type": "code",
   "execution_count": 47,
   "metadata": {},
   "outputs": [],
   "source": [
    "def process_and_load_data(data = pd.DataFrame, target = str):\n",
    "# Define features to normalize (Min-Max)\n",
    "    normalize_features = ['Weight', 'Body mass index', 'Systolic', 'Diastolic', 'Age',\n",
    "       'Glycohemoglobin', 'Cholesterol',\n",
    "       'High-density lipoprotein (HDL)', 'Albumin',\n",
    "       'Alanine aminotransferase (ALT)', 'Aspartate aminotransferase (AST)',\n",
    "       'Alkaline phosphatase (ALP)', 'Gamma-glutamyl transferase (GGT)',\n",
    "       'Glucose', 'Iron', 'Lactate dehydrogenase (LDH)', 'Phosphorus',\n",
    "       'Bilirubin', 'Protein', 'Triglycerides', 'Uric acid', 'Creatinine',\n",
    "       'White blood cells', 'Basophils', 'Red blood cells', 'Hemoglobin',\n",
    "       'Red blood cell width', 'Platelet count', 'Mean volume of platelets',\n",
    "       'Moderate-work']\n",
    "\n",
    "    # Categorical Columns\n",
    "    categorical_cols = ['Diabetes', 'Blood related diabetes', 'Vigorous-work']\n",
    "\n",
    "    # Initialize Scaler and Encoder\n",
    "    minmax_scaler = MinMaxScaler()\n",
    "    encoder = OneHotEncoder(drop=\"first\", sparse_output=False)\n",
    "\n",
    "    # Binarize Binary Categorical Columns\n",
    "    data['Gender'] = data['Gender'].map({'Male': 1, 'Female': 0})\n",
    "    data['Coronary heart disease'] = data['Coronary heart disease'].map({'Yes': 1, 'No': 0})\n",
    "\n",
    "    # One-Hot Encoding Before Splitting\n",
    "    encoded_data = encoder.fit_transform(data[categorical_cols])\n",
    "\n",
    "    # Convert to DataFrame\n",
    "    encoded_df = pd.DataFrame(encoded_data, columns=encoder.get_feature_names_out(categorical_cols), index=data.index)\n",
    "\n",
    "    # Drop original categorical columns and concatenate one-hot encoded columns\n",
    "    data = data.drop(columns=categorical_cols).reset_index(drop=True)\n",
    "    encoded_df = encoded_df.reset_index(drop=True)\n",
    "    data = pd.concat([data, encoded_df], axis=1)\n",
    "\n",
    "    # Split Data into Features and Labels\n",
    "    X = data.drop(target, axis=1)\n",
    "    y = data[target]\n",
    "\n",
    "    # Split Data into Train, Validation, and Test Sets\n",
    "    X_train, X_test, y_train, y_test = train_test_split(X, y, test_size=0.2, random_state=42)\n",
    "    X_train, X_val, y_train, y_val = train_test_split(X_train, y_train, test_size=0.25, random_state=42)\n",
    "\n",
    "    # Normalization\n",
    "    X_train[normalize_features] = minmax_scaler.fit_transform(X_train[normalize_features])\n",
    "    X_val[normalize_features] = minmax_scaler.transform(X_val[normalize_features])\n",
    "    X_test[normalize_features] = minmax_scaler.transform(X_test[normalize_features])\n",
    "\n",
    "    return X_train, X_val, X_test, y_train, y_val, y_test\n",
    "\n",
    "\n",
    " \n"
   ]
  },
  {
   "cell_type": "markdown",
   "metadata": {},
   "source": [
    "# Model Accuracy & Fairness Assessment Functions"
   ]
  },
  {
   "cell_type": "markdown",
   "metadata": {},
   "source": [
    "## Function to test the Model's Accuracy"
   ]
  },
  {
   "cell_type": "code",
   "execution_count": 27,
   "metadata": {},
   "outputs": [],
   "source": [
    "def model_assessment(predictions, actuals):\n",
    "    \n",
    "    #Overall\n",
    "    overall_accuracy = accuracy_score(actuals, predictions)\n",
    "    overall_recall = recall_score(actuals, predictions)\n",
    "    overall_precision = precision_score(actuals, predictions)\n",
    "\n",
    "\n",
    "\n",
    "    results = pd.DataFrame({\n",
    "        'Group': ['Overall'],\n",
    "        'Accuracy': [overall_accuracy],\n",
    "        'Recall': [overall_recall],\n",
    "        'Precision': [overall_precision]\n",
    "    })\n",
    "\n",
    "    return results\n",
    "\n",
    "\n",
    "\n"
   ]
  },
  {
   "cell_type": "code",
   "execution_count": 28,
   "metadata": {},
   "outputs": [],
   "source": [
    "def thresholds_assessment(raw_predictions, actuals, thresholds = list):\n",
    "    accs =[]\n",
    "    recalls = []\n",
    "    precs = []\n",
    "    for threshold in thresholds:\n",
    "        new_preds = (raw_predictions >= threshold).astype(int)\n",
    "        accs.append(accuracy_score(actuals, new_preds))\n",
    "        recalls.append(recall_score(actuals, new_preds))\n",
    "        precs.append(precision_score(actuals, new_preds))\n",
    "    return {'Accuracy': accs, 'Recall': recalls, 'Precision': precs}"
   ]
  },
  {
   "cell_type": "markdown",
   "metadata": {},
   "source": [
    "## Function to test the Model's Fairness between Males and Females"
   ]
  },
  {
   "cell_type": "code",
   "execution_count": 9,
   "metadata": {},
   "outputs": [],
   "source": [
    "def fairness_metrics(input_df, predictions):\n",
    "\n",
    "    binary_dataset = BinaryLabelDataset(df=input_df, \n",
    "                                    label_names=['Coronary heart disease'], \n",
    "                                    protected_attribute_names=['Gender'])\n",
    "\n",
    "    # Create predictions dataset\n",
    "    pred_df = input_df.drop('Coronary heart disease', axis = 1)\n",
    "    pred_df['Coronary heart disease'] = predictions\n",
    "    binary_predictions = BinaryLabelDataset(df=pred_df, \n",
    "                                            label_names=['Coronary heart disease'], \n",
    "                                            protected_attribute_names=['Gender'])\n",
    "\n",
    "    # Compute metrics\n",
    "    metric = ClassificationMetric(binary_dataset, binary_predictions, \n",
    "                                unprivileged_groups=[{'Gender': 0}], \n",
    "                                privileged_groups=[{'Gender': 1}]) \n",
    "    \n",
    "    demographic_parity_difference = metric.statistical_parity_difference()\n",
    "    equal_opportunity_difference = metric.equal_opportunity_difference()\n",
    "    predictive_parity = metric.statistical_parity_difference()\n",
    "    disparate_impact = metric.disparate_impact()\n",
    "\n",
    "\n",
    "    #Output Metrics in a Pandas DataFrame\n",
    "    fairness_table = pd.DataFrame({\n",
    "        'Metric': ['Demographic Parity Difference', 'Equal Opportunity Difference',\n",
    "                   'Predictive Parity', 'Disparate Impact'],\n",
    "        'Value': [demographic_parity_difference, equal_opportunity_difference,\n",
    "                  predictive_parity, disparate_impact]\n",
    "    })\n",
    "\n",
    "    return fairness_table\n"
   ]
  },
  {
   "cell_type": "markdown",
   "metadata": {},
   "source": [
    "# Load Data Set"
   ]
  },
  {
   "cell_type": "code",
   "execution_count": 50,
   "metadata": {},
   "outputs": [
    {
     "data": {
      "text/html": [
       "<div>\n",
       "<style scoped>\n",
       "    .dataframe tbody tr th:only-of-type {\n",
       "        vertical-align: middle;\n",
       "    }\n",
       "\n",
       "    .dataframe tbody tr th {\n",
       "        vertical-align: top;\n",
       "    }\n",
       "\n",
       "    .dataframe thead th {\n",
       "        text-align: right;\n",
       "    }\n",
       "</style>\n",
       "<table border=\"1\" class=\"dataframe\">\n",
       "  <thead>\n",
       "    <tr style=\"text-align: right;\">\n",
       "      <th></th>\n",
       "      <th>Weight</th>\n",
       "      <th>Body mass index</th>\n",
       "      <th>Systolic</th>\n",
       "      <th>Diastolic</th>\n",
       "      <th>Gender</th>\n",
       "      <th>Age</th>\n",
       "      <th>Diabetes</th>\n",
       "      <th>Glycohemoglobin</th>\n",
       "      <th>Cholesterol</th>\n",
       "      <th>High-density lipoprotein (HDL)</th>\n",
       "      <th>...</th>\n",
       "      <th>Basophils</th>\n",
       "      <th>Red blood cells</th>\n",
       "      <th>Hemoglobin</th>\n",
       "      <th>Red blood cell width</th>\n",
       "      <th>Platelet count</th>\n",
       "      <th>Mean volume of platelets</th>\n",
       "      <th>Coronary heart disease</th>\n",
       "      <th>Blood related diabetes</th>\n",
       "      <th>Moderate-work</th>\n",
       "      <th>Vigorous-work</th>\n",
       "    </tr>\n",
       "  </thead>\n",
       "  <tbody>\n",
       "    <tr>\n",
       "      <th>4</th>\n",
       "      <td>92.5</td>\n",
       "      <td>29.10</td>\n",
       "      <td>122.0</td>\n",
       "      <td>82.0</td>\n",
       "      <td>Male</td>\n",
       "      <td>597.0</td>\n",
       "      <td>No</td>\n",
       "      <td>5.5</td>\n",
       "      <td>7.21</td>\n",
       "      <td>1.08</td>\n",
       "      <td>...</td>\n",
       "      <td>5.397605e-79</td>\n",
       "      <td>5.13</td>\n",
       "      <td>14.5</td>\n",
       "      <td>13.1</td>\n",
       "      <td>209.0</td>\n",
       "      <td>10.4</td>\n",
       "      <td>No</td>\n",
       "      <td>No</td>\n",
       "      <td>17.0</td>\n",
       "      <td>Yes</td>\n",
       "    </tr>\n",
       "    <tr>\n",
       "      <th>6</th>\n",
       "      <td>78.0</td>\n",
       "      <td>29.39</td>\n",
       "      <td>130.0</td>\n",
       "      <td>78.0</td>\n",
       "      <td>Female</td>\n",
       "      <td>712.0</td>\n",
       "      <td>No</td>\n",
       "      <td>5.8</td>\n",
       "      <td>6.34</td>\n",
       "      <td>2.73</td>\n",
       "      <td>...</td>\n",
       "      <td>5.397605e-79</td>\n",
       "      <td>4.60</td>\n",
       "      <td>13.4</td>\n",
       "      <td>14.3</td>\n",
       "      <td>244.0</td>\n",
       "      <td>8.2</td>\n",
       "      <td>No</td>\n",
       "      <td>Yes</td>\n",
       "      <td>3.0</td>\n",
       "      <td>No</td>\n",
       "    </tr>\n",
       "    <tr>\n",
       "      <th>9</th>\n",
       "      <td>111.8</td>\n",
       "      <td>30.94</td>\n",
       "      <td>152.0</td>\n",
       "      <td>98.0</td>\n",
       "      <td>Male</td>\n",
       "      <td>518.0</td>\n",
       "      <td>No</td>\n",
       "      <td>5.5</td>\n",
       "      <td>3.62</td>\n",
       "      <td>1.31</td>\n",
       "      <td>...</td>\n",
       "      <td>5.397605e-79</td>\n",
       "      <td>5.00</td>\n",
       "      <td>15.4</td>\n",
       "      <td>13.7</td>\n",
       "      <td>167.0</td>\n",
       "      <td>9.4</td>\n",
       "      <td>No</td>\n",
       "      <td>Don't know</td>\n",
       "      <td>13.0</td>\n",
       "      <td>Don't know</td>\n",
       "    </tr>\n",
       "    <tr>\n",
       "      <th>13</th>\n",
       "      <td>75.5</td>\n",
       "      <td>27.33</td>\n",
       "      <td>142.0</td>\n",
       "      <td>56.0</td>\n",
       "      <td>Male</td>\n",
       "      <td>973.0</td>\n",
       "      <td>No</td>\n",
       "      <td>5.8</td>\n",
       "      <td>4.50</td>\n",
       "      <td>1.04</td>\n",
       "      <td>...</td>\n",
       "      <td>5.397605e-79</td>\n",
       "      <td>5.32</td>\n",
       "      <td>16.6</td>\n",
       "      <td>12.4</td>\n",
       "      <td>160.0</td>\n",
       "      <td>9.0</td>\n",
       "      <td>No</td>\n",
       "      <td>No</td>\n",
       "      <td>9.0</td>\n",
       "      <td>Yes</td>\n",
       "    </tr>\n",
       "    <tr>\n",
       "      <th>14</th>\n",
       "      <td>81.6</td>\n",
       "      <td>26.68</td>\n",
       "      <td>106.0</td>\n",
       "      <td>68.0</td>\n",
       "      <td>Female</td>\n",
       "      <td>459.0</td>\n",
       "      <td>No</td>\n",
       "      <td>4.6</td>\n",
       "      <td>5.15</td>\n",
       "      <td>1.49</td>\n",
       "      <td>...</td>\n",
       "      <td>5.397605e-79</td>\n",
       "      <td>4.14</td>\n",
       "      <td>13.3</td>\n",
       "      <td>11.9</td>\n",
       "      <td>255.0</td>\n",
       "      <td>7.7</td>\n",
       "      <td>No</td>\n",
       "      <td>No</td>\n",
       "      <td>13.0</td>\n",
       "      <td>Yes</td>\n",
       "    </tr>\n",
       "  </tbody>\n",
       "</table>\n",
       "<p>5 rows × 35 columns</p>\n",
       "</div>"
      ],
      "text/plain": [
       "    Weight  Body mass index  Systolic  Diastolic  Gender    Age Diabetes  \\\n",
       "4     92.5            29.10     122.0       82.0    Male  597.0       No   \n",
       "6     78.0            29.39     130.0       78.0  Female  712.0       No   \n",
       "9    111.8            30.94     152.0       98.0    Male  518.0       No   \n",
       "13    75.5            27.33     142.0       56.0    Male  973.0       No   \n",
       "14    81.6            26.68     106.0       68.0  Female  459.0       No   \n",
       "\n",
       "    Glycohemoglobin  Cholesterol  High-density lipoprotein (HDL)  ...  \\\n",
       "4               5.5         7.21                            1.08  ...   \n",
       "6               5.8         6.34                            2.73  ...   \n",
       "9               5.5         3.62                            1.31  ...   \n",
       "13              5.8         4.50                            1.04  ...   \n",
       "14              4.6         5.15                            1.49  ...   \n",
       "\n",
       "       Basophils  Red blood cells  Hemoglobin  Red blood cell width  \\\n",
       "4   5.397605e-79             5.13        14.5                  13.1   \n",
       "6   5.397605e-79             4.60        13.4                  14.3   \n",
       "9   5.397605e-79             5.00        15.4                  13.7   \n",
       "13  5.397605e-79             5.32        16.6                  12.4   \n",
       "14  5.397605e-79             4.14        13.3                  11.9   \n",
       "\n",
       "    Platelet count  Mean volume of platelets  Coronary heart disease  \\\n",
       "4            209.0                      10.4                      No   \n",
       "6            244.0                       8.2                      No   \n",
       "9            167.0                       9.4                      No   \n",
       "13           160.0                       9.0                      No   \n",
       "14           255.0                       7.7                      No   \n",
       "\n",
       "    Blood related diabetes  Moderate-work  Vigorous-work  \n",
       "4                       No           17.0            Yes  \n",
       "6                      Yes            3.0             No  \n",
       "9               Don't know           13.0     Don't know  \n",
       "13                      No            9.0            Yes  \n",
       "14                      No           13.0            Yes  \n",
       "\n",
       "[5 rows x 35 columns]"
      ]
     },
     "execution_count": 50,
     "metadata": {},
     "output_type": "execute_result"
    }
   ],
   "source": [
    "df = pd.read_parquet('data/nhanes_data_processed.parquet')\n",
    "df.head()"
   ]
  },
  {
   "cell_type": "markdown",
   "metadata": {},
   "source": [
    "## Simple Baseline Neural Network"
   ]
  },
  {
   "cell_type": "code",
   "execution_count": 5,
   "metadata": {},
   "outputs": [
    {
     "name": "stdout",
     "output_type": "stream",
     "text": [
      "WARNING:tensorflow:From c:\\Users\\Diego\\anaconda3\\Lib\\site-packages\\keras\\src\\backend.py:873: The name tf.get_default_graph is deprecated. Please use tf.compat.v1.get_default_graph instead.\n",
      "\n",
      "Model: \"sequential\"\n",
      "_________________________________________________________________\n",
      " Layer (type)                Output Shape              Param #   \n",
      "=================================================================\n",
      " dense (Dense)               (None, 32)                1344      \n",
      "                                                                 \n",
      " dropout (Dropout)           (None, 32)                0         \n",
      "                                                                 \n",
      " dense_1 (Dense)             (None, 16)                528       \n",
      "                                                                 \n",
      " dense_2 (Dense)             (None, 1)                 17        \n",
      "                                                                 \n",
      "=================================================================\n",
      "Total params: 1889 (7.38 KB)\n",
      "Trainable params: 1889 (7.38 KB)\n",
      "Non-trainable params: 0 (0.00 Byte)\n",
      "_________________________________________________________________\n"
     ]
    }
   ],
   "source": [
    "# Simple baseline model for 30 inputs\n",
    "simple_nn = Sequential()\n",
    "simple_nn.add(Dense(units=32, activation='relu', input_shape=(41,)))  # Input layer\n",
    "simple_nn.add(Dropout(0.3))  # Dropout to prevent overfitting\n",
    "simple_nn.add(Dense(units=16, activation='relu'))  # Hidden layer\n",
    "simple_nn.add(Dense(1, activation='sigmoid'))  # Output layer\n",
    "\n",
    "# Compile the model\n",
    "adam = keras.optimizers.Adam(learning_rate=0.001)\n",
    "simple_nn.compile(loss='binary_crossentropy', optimizer=adam, metrics=[\"accuracy\"])\n",
    "\n",
    "# Summary of the model\n",
    "simple_nn.summary()\n"
   ]
  },
  {
   "cell_type": "markdown",
   "metadata": {},
   "source": [
    "# Create Train/Test/Validation Sets"
   ]
  },
  {
   "cell_type": "code",
   "execution_count": 51,
   "metadata": {},
   "outputs": [],
   "source": [
    "X_train, X_test, X_val, y_train, y_test, y_val = process_and_load_data(df, 'Coronary heart disease')"
   ]
  },
  {
   "cell_type": "code",
   "execution_count": 52,
   "metadata": {},
   "outputs": [
    {
     "data": {
      "text/plain": [
       "10319    1\n",
       "39944    1\n",
       "36843    1\n",
       "41080    1\n",
       "37500    1\n",
       "        ..\n",
       "15776    0\n",
       "41454    1\n",
       "32914    1\n",
       "2254     1\n",
       "42246    1\n",
       "Name: Gender, Length: 27492, dtype: int64"
      ]
     },
     "execution_count": 52,
     "metadata": {},
     "output_type": "execute_result"
    }
   ],
   "source": [
    "X_train['Gender']"
   ]
  },
  {
   "cell_type": "markdown",
   "metadata": {},
   "source": [
    "# Train Simple Neural Network"
   ]
  },
  {
   "cell_type": "code",
   "execution_count": 53,
   "metadata": {},
   "outputs": [
    {
     "name": "stdout",
     "output_type": "stream",
     "text": [
      "Epoch 1/100\n",
      "860/860 [==============================] - 1s 942us/step - loss: 0.1363 - accuracy: 0.9584\n",
      "Epoch 2/100\n",
      "860/860 [==============================] - 1s 906us/step - loss: 0.1357 - accuracy: 0.9584\n",
      "Epoch 3/100\n",
      "860/860 [==============================] - 1s 941us/step - loss: 0.1363 - accuracy: 0.9584\n",
      "Epoch 4/100\n",
      "860/860 [==============================] - 1s 907us/step - loss: 0.1369 - accuracy: 0.9584\n",
      "Epoch 5/100\n",
      "860/860 [==============================] - 1s 917us/step - loss: 0.1356 - accuracy: 0.9584\n",
      "Epoch 6/100\n",
      "860/860 [==============================] - 1s 935us/step - loss: 0.1362 - accuracy: 0.9584\n",
      "Epoch 7/100\n",
      "860/860 [==============================] - 1s 923us/step - loss: 0.1359 - accuracy: 0.9584\n",
      "Epoch 8/100\n",
      "860/860 [==============================] - 1s 935us/step - loss: 0.1362 - accuracy: 0.9584\n",
      "Epoch 9/100\n",
      "860/860 [==============================] - 1s 910us/step - loss: 0.1360 - accuracy: 0.9584\n",
      "Epoch 10/100\n",
      "860/860 [==============================] - 1s 916us/step - loss: 0.1358 - accuracy: 0.9584\n",
      "Epoch 11/100\n",
      "860/860 [==============================] - 1s 915us/step - loss: 0.1359 - accuracy: 0.9584\n",
      "Epoch 12/100\n",
      "860/860 [==============================] - 1s 955us/step - loss: 0.1351 - accuracy: 0.9584\n",
      "Epoch 13/100\n",
      "860/860 [==============================] - 1s 919us/step - loss: 0.1364 - accuracy: 0.9584\n",
      "Epoch 14/100\n",
      "860/860 [==============================] - 1s 914us/step - loss: 0.1356 - accuracy: 0.9584\n",
      "Epoch 15/100\n",
      "860/860 [==============================] - 1s 874us/step - loss: 0.1354 - accuracy: 0.9584\n",
      "Epoch 16/100\n",
      "860/860 [==============================] - 1s 875us/step - loss: 0.1354 - accuracy: 0.9584\n",
      "Epoch 17/100\n",
      "860/860 [==============================] - 1s 853us/step - loss: 0.1356 - accuracy: 0.9584\n",
      "Epoch 18/100\n",
      "860/860 [==============================] - 1s 851us/step - loss: 0.1355 - accuracy: 0.9584\n",
      "Epoch 19/100\n",
      "860/860 [==============================] - 1s 861us/step - loss: 0.1354 - accuracy: 0.9584\n",
      "Epoch 20/100\n",
      "860/860 [==============================] - 1s 854us/step - loss: 0.1354 - accuracy: 0.9584\n",
      "Epoch 21/100\n",
      "860/860 [==============================] - 1s 878us/step - loss: 0.1350 - accuracy: 0.9584\n",
      "Epoch 22/100\n",
      "860/860 [==============================] - 1s 849us/step - loss: 0.1346 - accuracy: 0.9584\n",
      "Epoch 23/100\n",
      "860/860 [==============================] - 1s 853us/step - loss: 0.1354 - accuracy: 0.9584\n",
      "Epoch 24/100\n",
      "860/860 [==============================] - 1s 860us/step - loss: 0.1354 - accuracy: 0.9584\n",
      "Epoch 25/100\n",
      "860/860 [==============================] - 1s 852us/step - loss: 0.1350 - accuracy: 0.9584\n",
      "Epoch 26/100\n",
      "860/860 [==============================] - 1s 882us/step - loss: 0.1346 - accuracy: 0.9584\n",
      "Epoch 27/100\n",
      "860/860 [==============================] - 1s 853us/step - loss: 0.1348 - accuracy: 0.9584\n",
      "Epoch 28/100\n",
      "860/860 [==============================] - 1s 857us/step - loss: 0.1356 - accuracy: 0.9584\n",
      "Epoch 29/100\n",
      "860/860 [==============================] - 1s 860us/step - loss: 0.1348 - accuracy: 0.9584\n",
      "Epoch 30/100\n",
      "860/860 [==============================] - 1s 886us/step - loss: 0.1346 - accuracy: 0.9584\n",
      "Epoch 31/100\n",
      "860/860 [==============================] - 1s 867us/step - loss: 0.1339 - accuracy: 0.9584\n",
      "Epoch 32/100\n",
      "860/860 [==============================] - 1s 867us/step - loss: 0.1349 - accuracy: 0.9584\n",
      "Epoch 33/100\n",
      "860/860 [==============================] - 1s 870us/step - loss: 0.1341 - accuracy: 0.9584\n",
      "Epoch 34/100\n",
      "860/860 [==============================] - 1s 870us/step - loss: 0.1347 - accuracy: 0.9584\n",
      "Epoch 35/100\n",
      "860/860 [==============================] - 1s 889us/step - loss: 0.1349 - accuracy: 0.9584\n",
      "Epoch 36/100\n",
      "860/860 [==============================] - 1s 861us/step - loss: 0.1350 - accuracy: 0.9584\n",
      "Epoch 37/100\n",
      "860/860 [==============================] - 1s 860us/step - loss: 0.1340 - accuracy: 0.9584\n",
      "Epoch 38/100\n",
      "860/860 [==============================] - 1s 868us/step - loss: 0.1349 - accuracy: 0.9584\n",
      "Epoch 39/100\n",
      "860/860 [==============================] - 1s 859us/step - loss: 0.1345 - accuracy: 0.9584\n",
      "Epoch 40/100\n",
      "860/860 [==============================] - 1s 884us/step - loss: 0.1334 - accuracy: 0.9584\n",
      "Epoch 41/100\n",
      "860/860 [==============================] - 1s 851us/step - loss: 0.1339 - accuracy: 0.9584\n",
      "Epoch 42/100\n",
      "860/860 [==============================] - 1s 874us/step - loss: 0.1334 - accuracy: 0.9584\n",
      "Epoch 43/100\n",
      "860/860 [==============================] - 1s 879us/step - loss: 0.1337 - accuracy: 0.9584\n",
      "Epoch 44/100\n",
      "860/860 [==============================] - 1s 894us/step - loss: 0.1341 - accuracy: 0.9584\n",
      "Epoch 45/100\n",
      "860/860 [==============================] - 1s 871us/step - loss: 0.1345 - accuracy: 0.9584\n",
      "Epoch 46/100\n",
      "860/860 [==============================] - 1s 872us/step - loss: 0.1347 - accuracy: 0.9584\n",
      "Epoch 47/100\n",
      "860/860 [==============================] - 1s 874us/step - loss: 0.1341 - accuracy: 0.9584\n",
      "Epoch 48/100\n",
      "860/860 [==============================] - 1s 873us/step - loss: 0.1339 - accuracy: 0.9584\n",
      "Epoch 49/100\n",
      "860/860 [==============================] - 1s 895us/step - loss: 0.1340 - accuracy: 0.9584\n",
      "Epoch 50/100\n",
      "860/860 [==============================] - 1s 879us/step - loss: 0.1339 - accuracy: 0.9584\n",
      "Epoch 51/100\n",
      "860/860 [==============================] - 1s 867us/step - loss: 0.1335 - accuracy: 0.9584\n",
      "Epoch 52/100\n",
      "860/860 [==============================] - 1s 875us/step - loss: 0.1338 - accuracy: 0.9584\n",
      "Epoch 53/100\n",
      "860/860 [==============================] - 1s 866us/step - loss: 0.1342 - accuracy: 0.9584\n",
      "Epoch 54/100\n",
      "860/860 [==============================] - 1s 893us/step - loss: 0.1344 - accuracy: 0.9584\n",
      "Epoch 55/100\n",
      "860/860 [==============================] - 1s 866us/step - loss: 0.1348 - accuracy: 0.9584\n",
      "Epoch 56/100\n",
      "860/860 [==============================] - 1s 867us/step - loss: 0.1336 - accuracy: 0.9584\n",
      "Epoch 57/100\n",
      "860/860 [==============================] - 1s 867us/step - loss: 0.1342 - accuracy: 0.9584\n",
      "Epoch 58/100\n",
      "860/860 [==============================] - 1s 895us/step - loss: 0.1334 - accuracy: 0.9584\n",
      "Epoch 59/100\n",
      "860/860 [==============================] - 1s 871us/step - loss: 0.1325 - accuracy: 0.9584\n",
      "Epoch 60/100\n",
      "860/860 [==============================] - 1s 871us/step - loss: 0.1340 - accuracy: 0.9584\n",
      "Epoch 61/100\n",
      "860/860 [==============================] - 1s 874us/step - loss: 0.1338 - accuracy: 0.9584\n",
      "Epoch 62/100\n",
      "860/860 [==============================] - 1s 870us/step - loss: 0.1331 - accuracy: 0.9584\n",
      "Epoch 63/100\n",
      "860/860 [==============================] - 1s 896us/step - loss: 0.1341 - accuracy: 0.9584\n",
      "Epoch 64/100\n",
      "860/860 [==============================] - 1s 881us/step - loss: 0.1336 - accuracy: 0.9584\n",
      "Epoch 65/100\n",
      "860/860 [==============================] - 1s 879us/step - loss: 0.1336 - accuracy: 0.9584\n",
      "Epoch 66/100\n",
      "860/860 [==============================] - 1s 884us/step - loss: 0.1332 - accuracy: 0.9584\n",
      "Epoch 67/100\n",
      "860/860 [==============================] - 1s 902us/step - loss: 0.1333 - accuracy: 0.9584\n",
      "Epoch 68/100\n",
      "860/860 [==============================] - 1s 870us/step - loss: 0.1338 - accuracy: 0.9584\n",
      "Epoch 69/100\n",
      "860/860 [==============================] - 1s 877us/step - loss: 0.1328 - accuracy: 0.9584\n",
      "Epoch 70/100\n",
      "860/860 [==============================] - 1s 878us/step - loss: 0.1322 - accuracy: 0.9584\n",
      "Epoch 71/100\n",
      "860/860 [==============================] - 1s 870us/step - loss: 0.1329 - accuracy: 0.9584\n",
      "Epoch 72/100\n",
      "860/860 [==============================] - 1s 895us/step - loss: 0.1327 - accuracy: 0.9584\n",
      "Epoch 73/100\n",
      "860/860 [==============================] - 1s 872us/step - loss: 0.1345 - accuracy: 0.9584\n",
      "Epoch 74/100\n",
      "860/860 [==============================] - 1s 875us/step - loss: 0.1330 - accuracy: 0.9584\n",
      "Epoch 75/100\n",
      "860/860 [==============================] - 1s 873us/step - loss: 0.1326 - accuracy: 0.9584\n",
      "Epoch 76/100\n",
      "860/860 [==============================] - 1s 886us/step - loss: 0.1337 - accuracy: 0.9584\n",
      "Epoch 77/100\n",
      "860/860 [==============================] - 1s 889us/step - loss: 0.1323 - accuracy: 0.9584\n",
      "Epoch 78/100\n",
      "860/860 [==============================] - 1s 891us/step - loss: 0.1332 - accuracy: 0.9584\n",
      "Epoch 79/100\n",
      "860/860 [==============================] - 1s 884us/step - loss: 0.1328 - accuracy: 0.9584\n",
      "Epoch 80/100\n",
      "860/860 [==============================] - 1s 882us/step - loss: 0.1331 - accuracy: 0.9584\n",
      "Epoch 81/100\n",
      "860/860 [==============================] - 1s 907us/step - loss: 0.1325 - accuracy: 0.9584\n",
      "Epoch 82/100\n",
      "860/860 [==============================] - 1s 881us/step - loss: 0.1326 - accuracy: 0.9584\n",
      "Epoch 83/100\n",
      "860/860 [==============================] - 1s 891us/step - loss: 0.1331 - accuracy: 0.9584\n",
      "Epoch 84/100\n",
      "860/860 [==============================] - 1s 892us/step - loss: 0.1328 - accuracy: 0.9584\n",
      "Epoch 85/100\n",
      "860/860 [==============================] - 1s 909us/step - loss: 0.1334 - accuracy: 0.9584\n",
      "Epoch 86/100\n",
      "860/860 [==============================] - 1s 878us/step - loss: 0.1329 - accuracy: 0.9584\n",
      "Epoch 87/100\n",
      "860/860 [==============================] - 1s 878us/step - loss: 0.1322 - accuracy: 0.9584\n",
      "Epoch 88/100\n",
      "860/860 [==============================] - 1s 879us/step - loss: 0.1331 - accuracy: 0.9584\n",
      "Epoch 89/100\n",
      "860/860 [==============================] - 1s 887us/step - loss: 0.1321 - accuracy: 0.9584\n",
      "Epoch 90/100\n",
      "860/860 [==============================] - 1s 915us/step - loss: 0.1325 - accuracy: 0.9584\n",
      "Epoch 91/100\n",
      "860/860 [==============================] - 1s 877us/step - loss: 0.1321 - accuracy: 0.9584\n",
      "Epoch 92/100\n",
      "860/860 [==============================] - 1s 874us/step - loss: 0.1329 - accuracy: 0.9584\n",
      "Epoch 93/100\n",
      "860/860 [==============================] - 1s 880us/step - loss: 0.1329 - accuracy: 0.9584\n",
      "Epoch 94/100\n",
      "860/860 [==============================] - 1s 905us/step - loss: 0.1330 - accuracy: 0.9584\n",
      "Epoch 95/100\n",
      "860/860 [==============================] - 1s 884us/step - loss: 0.1314 - accuracy: 0.9584\n",
      "Epoch 96/100\n",
      "860/860 [==============================] - 1s 874us/step - loss: 0.1317 - accuracy: 0.9584\n",
      "Epoch 97/100\n",
      "860/860 [==============================] - 1s 891us/step - loss: 0.1326 - accuracy: 0.9584\n",
      "Epoch 98/100\n",
      "860/860 [==============================] - 1s 920us/step - loss: 0.1318 - accuracy: 0.9584\n",
      "Epoch 99/100\n",
      "860/860 [==============================] - 1s 892us/step - loss: 0.1323 - accuracy: 0.9584\n",
      "Epoch 100/100\n",
      "860/860 [==============================] - 1s 888us/step - loss: 0.1321 - accuracy: 0.9584\n"
     ]
    },
    {
     "data": {
      "text/plain": [
       "<keras.src.callbacks.History at 0x2478c39c910>"
      ]
     },
     "execution_count": 53,
     "metadata": {},
     "output_type": "execute_result"
    }
   ],
   "source": [
    "simple_nn.fit(X_train, y_train, epochs = 100)"
   ]
  },
  {
   "cell_type": "markdown",
   "metadata": {},
   "source": [
    "# Accuracy Assessment"
   ]
  },
  {
   "cell_type": "markdown",
   "metadata": {},
   "source": [
    "### Test Set"
   ]
  },
  {
   "cell_type": "code",
   "execution_count": 54,
   "metadata": {},
   "outputs": [
    {
     "name": "stdout",
     "output_type": "stream",
     "text": [
      "287/287 [==============================] - 0s 703us/step - loss: 0.1341 - accuracy: 0.9615\n",
      "[0.13414545357227325, 0.9614797234535217]\n",
      "Loss =  0.13414545357227325\n",
      "Accuracy =  0.9614797234535217\n"
     ]
    }
   ],
   "source": [
    "loss_and_metrics = simple_nn.evaluate(X_test, y_test)\n",
    "print(loss_and_metrics)\n",
    "print('Loss = ',loss_and_metrics[0])\n",
    "print('Accuracy = ',loss_and_metrics[1])"
   ]
  },
  {
   "cell_type": "markdown",
   "metadata": {},
   "source": [
    "### Predictions Evaulation"
   ]
  },
  {
   "cell_type": "code",
   "execution_count": 55,
   "metadata": {},
   "outputs": [
    {
     "name": "stdout",
     "output_type": "stream",
     "text": [
      "287/287 [==============================] - 0s 661us/step\n"
     ]
    }
   ],
   "source": [
    "raw_preds = simple_nn.predict(X_val)"
   ]
  },
  {
   "cell_type": "markdown",
   "metadata": {},
   "source": [
    "### Default Threshold of 0.5"
   ]
  },
  {
   "cell_type": "code",
   "execution_count": 56,
   "metadata": {},
   "outputs": [],
   "source": [
    "preds = (raw_preds >= 0.5).astype(int)"
   ]
  },
  {
   "cell_type": "code",
   "execution_count": 57,
   "metadata": {},
   "outputs": [
    {
     "name": "stderr",
     "output_type": "stream",
     "text": [
      "c:\\Users\\Diego\\anaconda3\\Lib\\site-packages\\sklearn\\metrics\\_classification.py:1469: UndefinedMetricWarning: Precision is ill-defined and being set to 0.0 due to no predicted samples. Use `zero_division` parameter to control this behavior.\n",
      "  _warn_prf(average, modifier, msg_start, len(result))\n"
     ]
    },
    {
     "data": {
      "text/html": [
       "<div>\n",
       "<style scoped>\n",
       "    .dataframe tbody tr th:only-of-type {\n",
       "        vertical-align: middle;\n",
       "    }\n",
       "\n",
       "    .dataframe tbody tr th {\n",
       "        vertical-align: top;\n",
       "    }\n",
       "\n",
       "    .dataframe thead th {\n",
       "        text-align: right;\n",
       "    }\n",
       "</style>\n",
       "<table border=\"1\" class=\"dataframe\">\n",
       "  <thead>\n",
       "    <tr style=\"text-align: right;\">\n",
       "      <th></th>\n",
       "      <th>Group</th>\n",
       "      <th>Accuracy</th>\n",
       "      <th>Recall</th>\n",
       "      <th>Precision</th>\n",
       "    </tr>\n",
       "  </thead>\n",
       "  <tbody>\n",
       "    <tr>\n",
       "      <th>0</th>\n",
       "      <td>Overall</td>\n",
       "      <td>0.959515</td>\n",
       "      <td>0.0</td>\n",
       "      <td>0.0</td>\n",
       "    </tr>\n",
       "  </tbody>\n",
       "</table>\n",
       "</div>"
      ],
      "text/plain": [
       "     Group  Accuracy  Recall  Precision\n",
       "0  Overall  0.959515     0.0        0.0"
      ]
     },
     "execution_count": 57,
     "metadata": {},
     "output_type": "execute_result"
    }
   ],
   "source": [
    "model_assessment(preds, y_val)"
   ]
  },
  {
   "cell_type": "markdown",
   "metadata": {},
   "source": [
    "# Threshold Assesment"
   ]
  },
  {
   "cell_type": "code",
   "execution_count": 58,
   "metadata": {},
   "outputs": [],
   "source": [
    "thresholds = np.arange(0.01,1, 0.05)"
   ]
  },
  {
   "cell_type": "code",
   "execution_count": 59,
   "metadata": {},
   "outputs": [
    {
     "name": "stderr",
     "output_type": "stream",
     "text": [
      "c:\\Users\\Diego\\anaconda3\\Lib\\site-packages\\sklearn\\metrics\\_classification.py:1469: UndefinedMetricWarning: Precision is ill-defined and being set to 0.0 due to no predicted samples. Use `zero_division` parameter to control this behavior.\n",
      "  _warn_prf(average, modifier, msg_start, len(result))\n",
      "c:\\Users\\Diego\\anaconda3\\Lib\\site-packages\\sklearn\\metrics\\_classification.py:1469: UndefinedMetricWarning: Precision is ill-defined and being set to 0.0 due to no predicted samples. Use `zero_division` parameter to control this behavior.\n",
      "  _warn_prf(average, modifier, msg_start, len(result))\n",
      "c:\\Users\\Diego\\anaconda3\\Lib\\site-packages\\sklearn\\metrics\\_classification.py:1469: UndefinedMetricWarning: Precision is ill-defined and being set to 0.0 due to no predicted samples. Use `zero_division` parameter to control this behavior.\n",
      "  _warn_prf(average, modifier, msg_start, len(result))\n",
      "c:\\Users\\Diego\\anaconda3\\Lib\\site-packages\\sklearn\\metrics\\_classification.py:1469: UndefinedMetricWarning: Precision is ill-defined and being set to 0.0 due to no predicted samples. Use `zero_division` parameter to control this behavior.\n",
      "  _warn_prf(average, modifier, msg_start, len(result))\n",
      "c:\\Users\\Diego\\anaconda3\\Lib\\site-packages\\sklearn\\metrics\\_classification.py:1469: UndefinedMetricWarning: Precision is ill-defined and being set to 0.0 due to no predicted samples. Use `zero_division` parameter to control this behavior.\n",
      "  _warn_prf(average, modifier, msg_start, len(result))\n",
      "c:\\Users\\Diego\\anaconda3\\Lib\\site-packages\\sklearn\\metrics\\_classification.py:1469: UndefinedMetricWarning: Precision is ill-defined and being set to 0.0 due to no predicted samples. Use `zero_division` parameter to control this behavior.\n",
      "  _warn_prf(average, modifier, msg_start, len(result))\n",
      "c:\\Users\\Diego\\anaconda3\\Lib\\site-packages\\sklearn\\metrics\\_classification.py:1469: UndefinedMetricWarning: Precision is ill-defined and being set to 0.0 due to no predicted samples. Use `zero_division` parameter to control this behavior.\n",
      "  _warn_prf(average, modifier, msg_start, len(result))\n",
      "c:\\Users\\Diego\\anaconda3\\Lib\\site-packages\\sklearn\\metrics\\_classification.py:1469: UndefinedMetricWarning: Precision is ill-defined and being set to 0.0 due to no predicted samples. Use `zero_division` parameter to control this behavior.\n",
      "  _warn_prf(average, modifier, msg_start, len(result))\n",
      "c:\\Users\\Diego\\anaconda3\\Lib\\site-packages\\sklearn\\metrics\\_classification.py:1469: UndefinedMetricWarning: Precision is ill-defined and being set to 0.0 due to no predicted samples. Use `zero_division` parameter to control this behavior.\n",
      "  _warn_prf(average, modifier, msg_start, len(result))\n",
      "c:\\Users\\Diego\\anaconda3\\Lib\\site-packages\\sklearn\\metrics\\_classification.py:1469: UndefinedMetricWarning: Precision is ill-defined and being set to 0.0 due to no predicted samples. Use `zero_division` parameter to control this behavior.\n",
      "  _warn_prf(average, modifier, msg_start, len(result))\n"
     ]
    }
   ],
   "source": [
    "metrics = thresholds_assessment(raw_preds, y_val, thresholds)"
   ]
  },
  {
   "cell_type": "code",
   "execution_count": 60,
   "metadata": {},
   "outputs": [
    {
     "data": {
      "image/png": "[encoded data removed]",
      "text/plain": [
       "<Figure size 640x480 with 1 Axes>"
      ]
     },
     "metadata": {},
     "output_type": "display_data"
    }
   ],
   "source": [
    "plt.plot(thresholds, metrics['Precision'], label='Precision')\n",
    "plt.plot(thresholds, metrics['Recall'], label='Recall')\n",
    "plt.plot(thresholds, metrics['Accuracy'], label='Accuracy')\n",
    "plt.xlabel('Threshold')\n",
    "plt.ylabel('Score')\n",
    "plt.title('Precision, Recall, and Accuracy vs. Threshold')\n",
    "plt.legend()\n",
    "plt.show()"
   ]
  },
  {
   "cell_type": "markdown",
   "metadata": {},
   "source": [
    "### F1-Score Evaluation"
   ]
  },
  {
   "cell_type": "code",
   "execution_count": 61,
   "metadata": {},
   "outputs": [
    {
     "name": "stdout",
     "output_type": "stream",
     "text": [
      "Optimal threshold for F1-Score: 0.21000000000000002\n"
     ]
    }
   ],
   "source": [
    "f1_scores = []\n",
    "for t in thresholds:\n",
    "    preds = (raw_preds >= t).astype(int)\n",
    "    f1 = f1_score(y_val, preds)\n",
    "    f1_scores.append(f1)\n",
    "\n",
    "optimal_threshold = thresholds[f1_scores.index(max(f1_scores))]\n",
    "print(f\"Optimal threshold for F1-Score: {optimal_threshold}\")"
   ]
  },
  {
   "cell_type": "code",
   "execution_count": 62,
   "metadata": {},
   "outputs": [
    {
     "data": {
      "image/png": "[encoded data removed]",
      "text/plain": [
       "<Figure size 640x480 with 1 Axes>"
      ]
     },
     "metadata": {},
     "output_type": "display_data"
    }
   ],
   "source": [
    "plt.plot(thresholds, f1_scores)\n",
    "plt.xlabel('Threshold')\n",
    "plt.ylabel('Score')\n",
    "plt.title('F1-Score vs. Threshold')\n",
    "plt.show()"
   ]
  },
  {
   "cell_type": "code",
   "execution_count": 63,
   "metadata": {},
   "outputs": [],
   "source": [
    "preds = (raw_preds >= 0.11).astype(int)"
   ]
  },
  {
   "cell_type": "code",
   "execution_count": 64,
   "metadata": {},
   "outputs": [
    {
     "data": {
      "text/html": [
       "<div>\n",
       "<style scoped>\n",
       "    .dataframe tbody tr th:only-of-type {\n",
       "        vertical-align: middle;\n",
       "    }\n",
       "\n",
       "    .dataframe tbody tr th {\n",
       "        vertical-align: top;\n",
       "    }\n",
       "\n",
       "    .dataframe thead th {\n",
       "        text-align: right;\n",
       "    }\n",
       "</style>\n",
       "<table border=\"1\" class=\"dataframe\">\n",
       "  <thead>\n",
       "    <tr style=\"text-align: right;\">\n",
       "      <th></th>\n",
       "      <th>Group</th>\n",
       "      <th>Accuracy</th>\n",
       "      <th>Recall</th>\n",
       "      <th>Precision</th>\n",
       "    </tr>\n",
       "  </thead>\n",
       "  <tbody>\n",
       "    <tr>\n",
       "      <th>0</th>\n",
       "      <td>Overall</td>\n",
       "      <td>0.859996</td>\n",
       "      <td>0.541779</td>\n",
       "      <td>0.152968</td>\n",
       "    </tr>\n",
       "  </tbody>\n",
       "</table>\n",
       "</div>"
      ],
      "text/plain": [
       "     Group  Accuracy    Recall  Precision\n",
       "0  Overall  0.859996  0.541779   0.152968"
      ]
     },
     "execution_count": 64,
     "metadata": {},
     "output_type": "execute_result"
    }
   ],
   "source": [
    "model_assessment(preds, y_val)"
   ]
  },
  {
   "cell_type": "markdown",
   "metadata": {},
   "source": [
    "# Fairness Assessment"
   ]
  },
  {
   "cell_type": "code",
   "execution_count": 22,
   "metadata": {},
   "outputs": [],
   "source": [
    "import helpers"
   ]
  },
  {
   "cell_type": "code",
   "execution_count": 65,
   "metadata": {},
   "outputs": [
    {
     "data": {
      "text/html": [
       "<div>\n",
       "<style scoped>\n",
       "    .dataframe tbody tr th:only-of-type {\n",
       "        vertical-align: middle;\n",
       "    }\n",
       "\n",
       "    .dataframe tbody tr th {\n",
       "        vertical-align: top;\n",
       "    }\n",
       "\n",
       "    .dataframe thead th {\n",
       "        text-align: right;\n",
       "    }\n",
       "</style>\n",
       "<table border=\"1\" class=\"dataframe\">\n",
       "  <thead>\n",
       "    <tr style=\"text-align: right;\">\n",
       "      <th></th>\n",
       "      <th>Metric</th>\n",
       "      <th>Value</th>\n",
       "    </tr>\n",
       "  </thead>\n",
       "  <tbody>\n",
       "    <tr>\n",
       "      <th>0</th>\n",
       "      <td>Demographic Parity Difference</td>\n",
       "      <td>0.148728</td>\n",
       "    </tr>\n",
       "    <tr>\n",
       "      <th>1</th>\n",
       "      <td>Equal Opportunity Difference</td>\n",
       "      <td>0.332903</td>\n",
       "    </tr>\n",
       "    <tr>\n",
       "      <th>2</th>\n",
       "      <td>Predictive Parity</td>\n",
       "      <td>0.148728</td>\n",
       "    </tr>\n",
       "    <tr>\n",
       "      <th>3</th>\n",
       "      <td>Disparate Impact</td>\n",
       "      <td>3.094654</td>\n",
       "    </tr>\n",
       "  </tbody>\n",
       "</table>\n",
       "</div>"
      ],
      "text/plain": [
       "                          Metric     Value\n",
       "0  Demographic Parity Difference  0.148728\n",
       "1   Equal Opportunity Difference  0.332903\n",
       "2              Predictive Parity  0.148728\n",
       "3               Disparate Impact  3.094654"
      ]
     },
     "execution_count": 65,
     "metadata": {},
     "output_type": "execute_result"
    }
   ],
   "source": [
    "fairness_df = X_val.copy()\n",
    "fairness_df['Coronary heart disease'] = y_val\n",
    "helpers.fairness_metrics(fairness_df, preds)"
   ]
  },
  {
   "cell_type": "code",
   "execution_count": null,
   "metadata": {},
   "outputs": [],
   "source": []
  }
 ],
 "metadata": {
  "kernelspec": {
   "display_name": "base",
   "language": "python",
   "name": "python3"
  },
  "language_info": {
   "codemirror_mode": {
    "name": "ipython",
    "version": 3
   },
   "file_extension": ".py",
   "mimetype": "text/x-python",
   "name": "python",
   "nbconvert_exporter": "python",
   "pygments_lexer": "ipython3",
   "version": "3.11.5"
  }
 },
 "nbformat": 4,
 "nbformat_minor": 2
}
