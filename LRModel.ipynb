{
 "cells": [
  {
   "cell_type": "markdown",
   "metadata": {},
   "source": [
    "# Imported Libraries"
   ]
  },
  {
   "cell_type": "code",
   "execution_count": 3,
   "metadata": {},
   "outputs": [],
   "source": [
    "import sklearn\n",
    "from sklearn.model_selection import train_test_split\n",
    "from sklearn.preprocessing import StandardScaler\n",
    "from sklearn.metrics import classification_report, roc_auc_score,accuracy_score, precision_score, recall_score\n",
    "import pandas as pd\n",
    "import numpy as np"
   ]
  },
  {
   "cell_type": "markdown",
   "metadata": {},
   "source": [
    "# Helper Functions"
   ]
  },
  {
   "cell_type": "code",
   "execution_count": null,
   "metadata": {},
   "outputs": [],
   "source": [
    "def process_and_load_data(data, target = str):\n",
    "    #The input should only be a Pandas DataFrame \n",
    "    try:\n",
    "        #This creates split datasets for training, testing, and validation\n",
    "        #Additionally it prepares the input data sets for model fitting and predicting\n",
    "        (data == pd.DataFrame)\n",
    "        X = data.drop(target, axis = 1)\n",
    "        y = data[target]\n",
    "        X_train, X_test, y_train, y_test = train_test_split(X, y, test_size=0.2, random_state=42)\n",
    "        X_train, X_val, y_train, y_val = train_test_split(X_train, y_train, test_size=0.25, random_state=42)\n",
    "\n",
    "        scaler = StandardScaler()\n",
    "        X_train = scaler.fit_transform(X_train)\n",
    "        X_test = scaler.transform(X_test)\n",
    "        X_val =  scaler.transform(X_val)\n",
    "\n",
    "        return X_train, X_test, X_val, y_train, y_test, y_val\n",
    "    \n",
    "    #Throws Error if Input is not a Pandas DataFrame\n",
    "    except:\n",
    "        print(\"Input needs to be a Pandas DataFrame.\")"
   ]
  },
  {
   "cell_type": "code",
   "execution_count": 2,
   "metadata": {},
   "outputs": [],
   "source": [
    "def model_assessment(input, predictions, actuals):\n",
    "    \n",
    "    male_indices = input[input['Gender'] == 1].index.tolist()\n",
    "    female_indices = input[input['Gender'] == 2].index.tolist()\n",
    "\n",
    "    #Overall\n",
    "    overall_accuracy = accuracy_score(actuals, predictions)\n",
    "    overall_recall = recall_score(actuals, predictions)\n",
    "    overall_precision = precision_score(actuals, predictions)\n",
    "\n",
    "    #Female\n",
    "    female_preds = predictions[female_indices]\n",
    "    female_actuals = actuals[female_indices]\n",
    "    female_accuracy = accuracy_score(female_actuals, female_preds)\n",
    "    female_recall = recall_score(female_actuals, female_preds)\n",
    "    female_precision = precision_score(female_actuals, female_preds)\n",
    "\n",
    "    #Male\n",
    "    male_preds = predictions[male_indices]\n",
    "    male_actuals = actuals[male_indices]\n",
    "    male_accuracy = accuracy_score(male_actuals, male_preds)\n",
    "    male_recall = recall_score(male_actuals, male_preds)\n",
    "    male_precision = precision_score(male_actuals, male_preds)\n",
    "\n",
    "    results = pd.DataFrame({\n",
    "        'Group': ['Overall', 'Female', 'Male'],\n",
    "        'Accuracy': [overall_accuracy, female_accuracy, male_accuracy],\n",
    "        'Recall': [overall_recall, female_recall, male_recall],\n",
    "        'Precision': [overall_precision, female_precision, male_precision]\n",
    "    })\n",
    "\n",
    "    return results"
   ]
  },
  {
   "cell_type": "code",
   "execution_count": null,
   "metadata": {},
   "outputs": [],
   "source": []
  },
  {
   "cell_type": "markdown",
   "metadata": {},
   "source": [
    "# Base Logistic Regression Model"
   ]
  },
  {
   "cell_type": "code",
   "execution_count": 4,
   "metadata": {},
   "outputs": [],
   "source": [
    "\n",
    "log_reg = sklearn.linear_model.LogisticRegression()"
   ]
  },
  {
   "cell_type": "code",
   "execution_count": null,
   "metadata": {},
   "outputs": [],
   "source": []
  }
 ],
 "metadata": {
  "kernelspec": {
   "display_name": ".venv",
   "language": "python",
   "name": "python3"
  },
  "language_info": {
   "codemirror_mode": {
    "name": "ipython",
    "version": 3
   },
   "file_extension": ".py",
   "mimetype": "text/x-python",
   "name": "python",
   "nbconvert_exporter": "python",
   "pygments_lexer": "ipython3",
   "version": "3.11.0rc1"
  }
 },
 "nbformat": 4,
 "nbformat_minor": 2
}
