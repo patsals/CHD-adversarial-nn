{
 "cells": [
  {
   "cell_type": "code",
   "execution_count": 1,
   "metadata": {},
   "outputs": [
    {
     "name": "stdout",
     "output_type": "stream",
     "text": [
      "WARNING:tensorflow:From c:\\Users\\Diego\\anaconda3\\Lib\\site-packages\\keras\\src\\losses.py:2976: The name tf.losses.sparse_softmax_cross_entropy is deprecated. Please use tf.compat.v1.losses.sparse_softmax_cross_entropy instead.\n",
      "\n"
     ]
    },
    {
     "name": "stderr",
     "output_type": "stream",
     "text": [
      "c:\\Users\\Diego\\anaconda3\\Lib\\site-packages\\inFairness\\utils\\ndcg.py:37: FutureWarning: We've integrated functorch into PyTorch. As the final step of the integration, `functorch.vmap` is deprecated as of PyTorch 2.0 and will be deleted in a future version of PyTorch >= 2.3. Please use `torch.vmap` instead; see the PyTorch 2.0 release notes and/or the `torch.func` migration guide for more details https://pytorch.org/docs/main/func.migrating.html\n",
      "  vect_normalized_discounted_cumulative_gain = vmap(\n",
      "c:\\Users\\Diego\\anaconda3\\Lib\\site-packages\\inFairness\\utils\\ndcg.py:48: FutureWarning: We've integrated functorch into PyTorch. As the final step of the integration, `functorch.vmap` is deprecated as of PyTorch 2.0 and will be deleted in a future version of PyTorch >= 2.3. Please use `torch.vmap` instead; see the PyTorch 2.0 release notes and/or the `torch.func` migration guide for more details https://pytorch.org/docs/main/func.migrating.html\n",
      "  monte_carlo_vect_ndcg = vmap(vect_normalized_discounted_cumulative_gain, in_dims=(0,))\n"
     ]
    }
   ],
   "source": [
    "import matplotlib.pyplot as plt\n",
    "import tensorflow as tf\n",
    "import keras\n",
    "from tensorflow.keras.models import Sequential\n",
    "from tensorflow.keras.layers import Dense, Dropout\n",
    "from tensorflow.keras.callbacks import EarlyStopping\n",
    "from sklearn.model_selection import train_test_split\n",
    "from sklearn.preprocessing import StandardScaler, MinMaxScaler, LabelEncoder, OneHotEncoder\n",
    "from sklearn.metrics import classification_report, roc_auc_score,accuracy_score, precision_score, recall_score, f1_score, log_loss\n",
    "import pandas as pd\n",
    "import numpy as np\n",
    "from aif360.metrics import ClassificationMetric\n",
    "from aif360.datasets import BinaryLabelDataset\n",
    "import time\n",
    "from collections import deque\n",
    "import AMM_SGDClassifier\n",
    "import helpers"
   ]
  },
  {
   "cell_type": "markdown",
   "metadata": {},
   "source": [
    "# Load Data"
   ]
  },
  {
   "cell_type": "code",
   "execution_count": 2,
   "metadata": {},
   "outputs": [],
   "source": [
    "df = pd.read_parquet('data/nhanes_data_processed.parquet')\n"
   ]
  },
  {
   "cell_type": "markdown",
   "metadata": {},
   "source": [
    "# Dummy Data Load"
   ]
  },
  {
   "cell_type": "code",
   "execution_count": 3,
   "metadata": {},
   "outputs": [],
   "source": [
    "# np.random.seed(42)\n",
    "\n",
    "# # Number of rows and columns\n",
    "# num_rows = 1000\n",
    "# num_columns = 41\n",
    "\n",
    "# # Generate random float data for 39 columns\n",
    "# float_data = np.random.rand(num_rows, num_columns - 2)\n",
    "\n",
    "# # Generate two binary columns\n",
    "# binary_data = np.random.randint(0, 2, size=(num_rows, 2))\n",
    "\n",
    "# # Combine into a single dataset\n",
    "# data = np.hstack((float_data, binary_data))\n",
    "\n",
    "# # Create column names\n",
    "# column_names = [f\"feature_{i}\" for i in range(1, num_columns - 1)]\n",
    "# column_names.append(\"Gender\")\n",
    "# column_names.append(\"CHD\")\n",
    "\n",
    "# # Create DataFrame\n",
    "# dummy_df= pd.DataFrame(data, columns=column_names)\n",
    "\n"
   ]
  },
  {
   "cell_type": "code",
   "execution_count": 4,
   "metadata": {},
   "outputs": [],
   "source": [
    "# feature_columns = dummy_df.columns[:-1]  # All features except the last three columns\n",
    "# sensitive_column = dummy_df.columns[-2]  # The third last column as the sensitive feature\n",
    "# label_columns = dummy_df.columns[-1]  # The last two columns as labels\n",
    "\n",
    "# # Convert Pandas DataFrame to a TensorFlow dataset with three components\n",
    "# dataset = tf.data.Dataset.from_tensor_slices((\n",
    "#     dummy_df[feature_columns].values,  # Features\n",
    "#     dummy_df[sensitive_column].values.reshape(-1, 1),  # Sensitive feature (reshaped for batching)\n",
    "#     dummy_df[label_columns].values  # Labels\n",
    "# ))\n",
    "\n",
    "# # Define batch size\n",
    "# batch_size = 16  # You can adjust this as needed\n",
    "\n",
    "# # Batch the dataset\n",
    "# batched_dataset = dataset.batch(batch_size)"
   ]
  },
  {
   "cell_type": "markdown",
   "metadata": {},
   "source": [
    "# Process Real Data"
   ]
  },
  {
   "cell_type": "code",
   "execution_count": 5,
   "metadata": {},
   "outputs": [],
   "source": [
    "batched_dataset, X_val, y_val, X_test, y_test = helpers.data_processor(df, 32)"
   ]
  },
  {
   "cell_type": "code",
   "execution_count": 6,
   "metadata": {},
   "outputs": [
    {
     "name": "stdout",
     "output_type": "stream",
     "text": [
      "WARNING:tensorflow:From c:\\Users\\Diego\\anaconda3\\Lib\\site-packages\\keras\\src\\backend.py:873: The name tf.get_default_graph is deprecated. Please use tf.compat.v1.get_default_graph instead.\n",
      "\n"
     ]
    }
   ],
   "source": [
    "model = AMM_SGDClassifier.AdversarialModel(41, lambda_tradeoff=0.3)"
   ]
  },
  {
   "cell_type": "code",
   "execution_count": 7,
   "metadata": {},
   "outputs": [
    {
     "name": "stdout",
     "output_type": "stream",
     "text": [
      "\n",
      "Epoch 1/100\n",
      "860/860 [==============================] - 21s 25ms/step - loss: 0.0098 - accuracy: 0.9577\n",
      "\n",
      "Epoch 2/100\n",
      "860/860 [==============================] - 21s 24ms/step - loss: 1.5962 - accuracy: 0.9581\n",
      "\n",
      "Epoch 3/100\n",
      "860/860 [==============================] - 21s 24ms/step - loss: 1.5401 - accuracy: 0.9582\n",
      "\n",
      "Epoch 4/100\n",
      "860/860 [==============================] - 21s 24ms/step - loss: -0.1026 - accuracy: 0.9582\n",
      "\n",
      "Epoch 5/100\n",
      "860/860 [==============================] - 21s 24ms/step - loss: -0.0942 - accuracy: 0.9583\n",
      "\n",
      "Epoch 6/100\n",
      "860/860 [==============================] - 21s 24ms/step - loss: -0.1157 - accuracy: 0.9583\n",
      "\n",
      "Epoch 7/100\n",
      "860/860 [==============================] - 21s 25ms/step - loss: -0.0837 - accuracy: 0.9583\n",
      "\n",
      "Epoch 8/100\n",
      "860/860 [==============================] - 22s 26ms/step - loss: 0.1856 - accuracy: 0.9583\n",
      "\n",
      "Epoch 9/100\n",
      "860/860 [==============================] - 22s 25ms/step - loss: -0.1740 - accuracy: 0.9583\n",
      "\n",
      "Epoch 10/100\n",
      "860/860 [==============================] - 21s 25ms/step - loss: -0.0030 - accuracy: 0.9583\n",
      "\n",
      "Epoch 11/100\n",
      "860/860 [==============================] - 21s 25ms/step - loss: -0.1595 - accuracy: 0.9583\n",
      "\n",
      "Epoch 12/100\n",
      "860/860 [==============================] - 21s 25ms/step - loss: -0.1093 - accuracy: 0.9583\n",
      "\n",
      "Epoch 13/100\n",
      "860/860 [==============================] - 22s 25ms/step - loss: -0.1883 - accuracy: 0.9583\n",
      "\n",
      "Epoch 14/100\n",
      "860/860 [==============================] - 21s 25ms/step - loss: -0.1019 - accuracy: 0.9583\n",
      "\n",
      "Epoch 15/100\n",
      "860/860 [==============================] - 21s 25ms/step - loss: -0.2012 - accuracy: 0.9583\n",
      "\n",
      "Epoch 16/100\n",
      "860/860 [==============================] - 21s 25ms/step - loss: 1.5842 - accuracy: 0.9583\n",
      "\n",
      "Epoch 17/100\n",
      "860/860 [==============================] - 21s 25ms/step - loss: -0.1779 - accuracy: 0.9583\n",
      "\n",
      "Epoch 18/100\n",
      "860/860 [==============================] - 21s 25ms/step - loss: -0.2037 - accuracy: 0.9584\n",
      "\n",
      "Epoch 19/100\n",
      "860/860 [==============================] - 21s 25ms/step - loss: 1.7783 - accuracy: 0.9584\n",
      "\n",
      "Epoch 20/100\n",
      "860/860 [==============================] - 22s 25ms/step - loss: 2.2751 - accuracy: 0.9584\n",
      "\n",
      "Epoch 21/100\n",
      "860/860 [==============================] - 22s 25ms/step - loss: 2.2595 - accuracy: 0.9584\n",
      "\n",
      "Epoch 22/100\n",
      "860/860 [==============================] - 21s 25ms/step - loss: -0.1143 - accuracy: 0.9584\n",
      "\n",
      "Epoch 23/100\n",
      "860/860 [==============================] - 21s 24ms/step - loss: 0.7168 - accuracy: 0.9584\n",
      "\n",
      "Epoch 24/100\n",
      "860/860 [==============================] - 21s 25ms/step - loss: -0.0293 - accuracy: 0.9584\n",
      "\n",
      "Epoch 25/100\n",
      "860/860 [==============================] - 21s 25ms/step - loss: -0.1213 - accuracy: 0.9584\n",
      "\n",
      "Epoch 26/100\n",
      "860/860 [==============================] - 21s 24ms/step - loss: -0.0254 - accuracy: 0.9584\n",
      "\n",
      "Epoch 27/100\n",
      "860/860 [==============================] - 21s 24ms/step - loss: -0.1725 - accuracy: 0.9584\n",
      "\n",
      "Epoch 28/100\n",
      "860/860 [==============================] - 22s 25ms/step - loss: 0.0346 - accuracy: 0.9584\n",
      "\n",
      "Epoch 29/100\n",
      "860/860 [==============================] - 22s 25ms/step - loss: -0.1522 - accuracy: 0.9584\n",
      "\n",
      "Epoch 30/100\n",
      "860/860 [==============================] - 21s 25ms/step - loss: -0.1618 - accuracy: 0.9584\n",
      "\n",
      "Epoch 31/100\n",
      "860/860 [==============================] - 21s 25ms/step - loss: 0.0771 - accuracy: 0.9584\n",
      "\n",
      "Epoch 32/100\n",
      "860/860 [==============================] - 22s 25ms/step - loss: -0.1399 - accuracy: 0.9584\n",
      "\n",
      "Epoch 33/100\n",
      "860/860 [==============================] - 21s 25ms/step - loss: -0.1987 - accuracy: 0.9584\n",
      "\n",
      "Epoch 34/100\n",
      "860/860 [==============================] - 21s 25ms/step - loss: -0.0051 - accuracy: 0.9584\n",
      "\n",
      "Epoch 35/100\n",
      "860/860 [==============================] - 21s 24ms/step - loss: -0.1364 - accuracy: 0.9584\n",
      "\n",
      "Epoch 36/100\n",
      "860/860 [==============================] - 21s 25ms/step - loss: -0.0514 - accuracy: 0.9584\n",
      "\n",
      "Epoch 37/100\n",
      "860/860 [==============================] - 21s 25ms/step - loss: 0.0175 - accuracy: 0.9584\n",
      "\n",
      "Epoch 38/100\n",
      "860/860 [==============================] - 21s 24ms/step - loss: 0.8705 - accuracy: 0.9584\n",
      "\n",
      "Epoch 39/100\n",
      "860/860 [==============================] - 21s 25ms/step - loss: 1.7309 - accuracy: 0.9584\n",
      "\n",
      "Epoch 40/100\n",
      "860/860 [==============================] - 21s 25ms/step - loss: 1.1803 - accuracy: 0.9584\n",
      "\n",
      "Epoch 41/100\n",
      "860/860 [==============================] - 21s 25ms/step - loss: -0.0164 - accuracy: 0.9584\n",
      "\n",
      "Epoch 42/100\n",
      "860/860 [==============================] - 21s 25ms/step - loss: -0.1194 - accuracy: 0.9584\n",
      "\n",
      "Epoch 43/100\n",
      "860/860 [==============================] - 21s 25ms/step - loss: -0.1385 - accuracy: 0.9584\n",
      "\n",
      "Epoch 44/100\n",
      "860/860 [==============================] - 21s 25ms/step - loss: -0.2005 - accuracy: 0.9584\n",
      "\n",
      "Epoch 45/100\n",
      "860/860 [==============================] - 21s 25ms/step - loss: -0.0179 - accuracy: 0.9584\n",
      "\n",
      "Epoch 46/100\n",
      "860/860 [==============================] - 21s 24ms/step - loss: -0.1456 - accuracy: 0.9584\n",
      "\n",
      "Epoch 47/100\n",
      "860/860 [==============================] - 21s 25ms/step - loss: -0.1807 - accuracy: 0.9584\n",
      "\n",
      "Epoch 48/100\n",
      "860/860 [==============================] - 21s 25ms/step - loss: -0.1521 - accuracy: 0.9584\n",
      "\n",
      "Epoch 49/100\n",
      "860/860 [==============================] - 21s 25ms/step - loss: -0.1832 - accuracy: 0.9584\n",
      "\n",
      "Epoch 50/100\n",
      "860/860 [==============================] - 21s 25ms/step - loss: -0.1820 - accuracy: 0.9584\n",
      "\n",
      "Epoch 51/100\n",
      "860/860 [==============================] - 21s 25ms/step - loss: 2.5175 - accuracy: 0.9584\n",
      "\n",
      "Epoch 52/100\n",
      "860/860 [==============================] - 21s 24ms/step - loss: 1.4471 - accuracy: 0.9584\n",
      "\n",
      "Epoch 53/100\n",
      "860/860 [==============================] - 21s 24ms/step - loss: -0.2035 - accuracy: 0.9584\n",
      "\n",
      "Epoch 54/100\n",
      "860/860 [==============================] - 21s 25ms/step - loss: -0.1327 - accuracy: 0.9584\n",
      "\n",
      "Epoch 55/100\n",
      "860/860 [==============================] - 21s 25ms/step - loss: -0.1822 - accuracy: 0.9584\n",
      "\n",
      "Epoch 56/100\n",
      "860/860 [==============================] - 21s 25ms/step - loss: -0.1475 - accuracy: 0.9584\n",
      "\n",
      "Epoch 57/100\n",
      "860/860 [==============================] - 21s 25ms/step - loss: 0.8892 - accuracy: 0.9584\n",
      "\n",
      "Epoch 58/100\n",
      "860/860 [==============================] - 21s 25ms/step - loss: 0.1075 - accuracy: 0.9584\n",
      "\n",
      "Epoch 59/100\n",
      "860/860 [==============================] - 21s 24ms/step - loss: 0.6902 - accuracy: 0.9584\n",
      "\n",
      "Epoch 60/100\n",
      "860/860 [==============================] - 21s 24ms/step - loss: -0.1308 - accuracy: 0.9584\n",
      "\n",
      "Epoch 61/100\n",
      "860/860 [==============================] - 20s 24ms/step - loss: -0.1051 - accuracy: 0.9584\n",
      "\n",
      "Epoch 62/100\n",
      "860/860 [==============================] - 21s 24ms/step - loss: -0.1363 - accuracy: 0.9584\n",
      "\n",
      "Epoch 63/100\n",
      "860/860 [==============================] - 20s 24ms/step - loss: -0.1621 - accuracy: 0.9584\n",
      "\n",
      "Epoch 64/100\n",
      "860/860 [==============================] - 21s 25ms/step - loss: -0.1206 - accuracy: 0.9584\n",
      "\n",
      "Epoch 65/100\n",
      "860/860 [==============================] - 21s 25ms/step - loss: -0.1371 - accuracy: 0.9584\n",
      "\n",
      "Epoch 66/100\n",
      "860/860 [==============================] - 21s 25ms/step - loss: -0.1552 - accuracy: 0.9584\n",
      "\n",
      "Epoch 67/100\n",
      "860/860 [==============================] - 21s 24ms/step - loss: -0.1616 - accuracy: 0.9584\n",
      "\n",
      "Epoch 68/100\n",
      "860/860 [==============================] - 21s 25ms/step - loss: -0.1807 - accuracy: 0.9584\n",
      "\n",
      "Epoch 69/100\n",
      "860/860 [==============================] - 21s 25ms/step - loss: -0.1548 - accuracy: 0.9584\n",
      "\n",
      "Epoch 70/100\n",
      "860/860 [==============================] - 21s 24ms/step - loss: -0.1232 - accuracy: 0.9584\n",
      "\n",
      "Epoch 71/100\n",
      "860/860 [==============================] - 21s 25ms/step - loss: -0.1835 - accuracy: 0.9584\n",
      "\n",
      "Epoch 72/100\n",
      "860/860 [==============================] - 21s 25ms/step - loss: -0.1625 - accuracy: 0.9584\n",
      "\n",
      "Epoch 73/100\n",
      "860/860 [==============================] - 21s 24ms/step - loss: -0.1764 - accuracy: 0.9584\n",
      "\n",
      "Epoch 74/100\n",
      "860/860 [==============================] - 21s 25ms/step - loss: -0.1058 - accuracy: 0.9584\n",
      "\n",
      "Epoch 75/100\n",
      "860/860 [==============================] - 21s 24ms/step - loss: -0.0330 - accuracy: 0.9584\n",
      "\n",
      "Epoch 76/100\n",
      "860/860 [==============================] - 21s 24ms/step - loss: -0.1474 - accuracy: 0.9584\n",
      "\n",
      "Epoch 77/100\n",
      "860/860 [==============================] - 21s 25ms/step - loss: 0.0424 - accuracy: 0.9584\n",
      "\n",
      "Epoch 78/100\n",
      "860/860 [==============================] - 21s 24ms/step - loss: -0.1241 - accuracy: 0.9584\n",
      "\n",
      "Epoch 79/100\n",
      "860/860 [==============================] - 21s 24ms/step - loss: -0.1334 - accuracy: 0.9584\n",
      "\n",
      "Epoch 80/100\n",
      "860/860 [==============================] - 21s 25ms/step - loss: -0.2279 - accuracy: 0.9584\n",
      "\n",
      "Epoch 81/100\n",
      "860/860 [==============================] - 21s 24ms/step - loss: 1.3380 - accuracy: 0.9584\n",
      "\n",
      "Epoch 82/100\n",
      "860/860 [==============================] - 21s 24ms/step - loss: -0.1691 - accuracy: 0.9584\n",
      "\n",
      "Epoch 83/100\n",
      "860/860 [==============================] - 21s 25ms/step - loss: 2.3062 - accuracy: 0.9584\n",
      "\n",
      "Epoch 84/100\n",
      "860/860 [==============================] - 21s 24ms/step - loss: -0.0437 - accuracy: 0.9584\n",
      "\n",
      "Epoch 85/100\n",
      "860/860 [==============================] - 21s 24ms/step - loss: -0.1533 - accuracy: 0.9584\n",
      "\n",
      "Epoch 86/100\n",
      "860/860 [==============================] - 21s 24ms/step - loss: 1.6892 - accuracy: 0.9584\n",
      "\n",
      "Epoch 87/100\n",
      "860/860 [==============================] - 21s 24ms/step - loss: -0.1545 - accuracy: 0.9584\n",
      "\n",
      "Epoch 88/100\n",
      "860/860 [==============================] - 21s 24ms/step - loss: 0.0485 - accuracy: 0.9584\n",
      "\n",
      "Epoch 89/100\n",
      "860/860 [==============================] - 21s 24ms/step - loss: -0.1351 - accuracy: 0.9584\n",
      "\n",
      "Epoch 90/100\n",
      "860/860 [==============================] - 21s 24ms/step - loss: -0.0515 - accuracy: 0.9584\n",
      "\n",
      "Epoch 91/100\n",
      "860/860 [==============================] - 21s 24ms/step - loss: 0.9826 - accuracy: 0.9584\n",
      "\n",
      "Epoch 92/100\n",
      "860/860 [==============================] - 20s 24ms/step - loss: -0.1460 - accuracy: 0.9584\n",
      "\n",
      "Epoch 93/100\n",
      "860/860 [==============================] - 21s 24ms/step - loss: -0.1563 - accuracy: 0.9584\n",
      "\n",
      "Epoch 94/100\n",
      "860/860 [==============================] - 21s 24ms/step - loss: 1.7195 - accuracy: 0.9584\n",
      "\n",
      "Epoch 95/100\n",
      "860/860 [==============================] - 21s 25ms/step - loss: 1.8161 - accuracy: 0.9584\n",
      "\n",
      "Epoch 96/100\n",
      "860/860 [==============================] - 21s 24ms/step - loss: -0.1537 - accuracy: 0.9584\n",
      "\n",
      "Epoch 97/100\n",
      "860/860 [==============================] - 21s 25ms/step - loss: -0.1950 - accuracy: 0.9584\n",
      "\n",
      "Epoch 98/100\n",
      "860/860 [==============================] - 21s 24ms/step - loss: 0.8473 - accuracy: 0.9584\n",
      "\n",
      "Epoch 99/100\n",
      "860/860 [==============================] - 21s 24ms/step - loss: -0.1248 - accuracy: 0.9584\n",
      "\n",
      "Epoch 100/100\n",
      "860/860 [==============================] - 21s 24ms/step - loss: -0.1858 - accuracy: 0.9584\n",
      "\n",
      "860/860 - 21s 24437us/step - accuracy: 0.9584 - loss: 0.1477\n"
     ]
    }
   ],
   "source": [
    "model.fit(batched_dataset)"
   ]
  },
  {
   "cell_type": "code",
   "execution_count": 15,
   "metadata": {},
   "outputs": [
    {
     "name": "stdout",
     "output_type": "stream",
     "text": [
      "287/287 [==============================] - 0s 685us/step\n"
     ]
    }
   ],
   "source": [
    "X_val_array = np.array(X_val).astype(np.float32) \n",
    "X_val_tensor = tf.convert_to_tensor(X_val_array, dtype=tf.float32)\n",
    "raw_preds = model.predict(X_val_tensor, raw_probabilities=True)"
   ]
  },
  {
   "cell_type": "code",
   "execution_count": 16,
   "metadata": {},
   "outputs": [],
   "source": [
    "preds = (raw_preds >= 0.11).astype(int)\n",
    "preds = preds.flatten()\n",
    "y_val = y_val.astype(int)"
   ]
  },
  {
   "cell_type": "code",
   "execution_count": 17,
   "metadata": {},
   "outputs": [
    {
     "data": {
      "text/html": [
       "<div>\n",
       "<style scoped>\n",
       "    .dataframe tbody tr th:only-of-type {\n",
       "        vertical-align: middle;\n",
       "    }\n",
       "\n",
       "    .dataframe tbody tr th {\n",
       "        vertical-align: top;\n",
       "    }\n",
       "\n",
       "    .dataframe thead th {\n",
       "        text-align: right;\n",
       "    }\n",
       "</style>\n",
       "<table border=\"1\" class=\"dataframe\">\n",
       "  <thead>\n",
       "    <tr style=\"text-align: right;\">\n",
       "      <th></th>\n",
       "      <th>Group</th>\n",
       "      <th>Accuracy</th>\n",
       "      <th>Recall</th>\n",
       "      <th>Precision</th>\n",
       "    </tr>\n",
       "  </thead>\n",
       "  <tbody>\n",
       "    <tr>\n",
       "      <th>0</th>\n",
       "      <td>Overall</td>\n",
       "      <td>0.898407</td>\n",
       "      <td>0.456091</td>\n",
       "      <td>0.178889</td>\n",
       "    </tr>\n",
       "  </tbody>\n",
       "</table>\n",
       "</div>"
      ],
      "text/plain": [
       "     Group  Accuracy    Recall  Precision\n",
       "0  Overall  0.898407  0.456091   0.178889"
      ]
     },
     "execution_count": 17,
     "metadata": {},
     "output_type": "execute_result"
    }
   ],
   "source": [
    "helpers.model_assessment(preds, y_val)"
   ]
  },
  {
   "cell_type": "code",
   "execution_count": 18,
   "metadata": {},
   "outputs": [],
   "source": [
    "fairness_df = X_val.copy()\n",
    "fairness_df['Coronary heart disease'] = y_val"
   ]
  },
  {
   "cell_type": "code",
   "execution_count": 19,
   "metadata": {},
   "outputs": [
    {
     "data": {
      "text/html": [
       "<div>\n",
       "<style scoped>\n",
       "    .dataframe tbody tr th:only-of-type {\n",
       "        vertical-align: middle;\n",
       "    }\n",
       "\n",
       "    .dataframe tbody tr th {\n",
       "        vertical-align: top;\n",
       "    }\n",
       "\n",
       "    .dataframe thead th {\n",
       "        text-align: right;\n",
       "    }\n",
       "</style>\n",
       "<table border=\"1\" class=\"dataframe\">\n",
       "  <thead>\n",
       "    <tr style=\"text-align: right;\">\n",
       "      <th></th>\n",
       "      <th>Metric</th>\n",
       "      <th>Value</th>\n",
       "    </tr>\n",
       "  </thead>\n",
       "  <tbody>\n",
       "    <tr>\n",
       "      <th>0</th>\n",
       "      <td>Demographic Parity Difference</td>\n",
       "      <td>0.099896</td>\n",
       "    </tr>\n",
       "    <tr>\n",
       "      <th>1</th>\n",
       "      <td>Equal Opportunity Difference</td>\n",
       "      <td>0.325022</td>\n",
       "    </tr>\n",
       "    <tr>\n",
       "      <th>2</th>\n",
       "      <td>Predictive Parity</td>\n",
       "      <td>0.099896</td>\n",
       "    </tr>\n",
       "    <tr>\n",
       "      <th>3</th>\n",
       "      <td>Disparate Impact</td>\n",
       "      <td>3.006848</td>\n",
       "    </tr>\n",
       "  </tbody>\n",
       "</table>\n",
       "</div>"
      ],
      "text/plain": [
       "                          Metric     Value\n",
       "0  Demographic Parity Difference  0.099896\n",
       "1   Equal Opportunity Difference  0.325022\n",
       "2              Predictive Parity  0.099896\n",
       "3               Disparate Impact  3.006848"
      ]
     },
     "execution_count": 19,
     "metadata": {},
     "output_type": "execute_result"
    }
   ],
   "source": [
    "helpers.fairness_metrics(fairness_df, preds)"
   ]
  },
  {
   "cell_type": "code",
   "execution_count": 20,
   "metadata": {},
   "outputs": [
    {
     "name": "stdout",
     "output_type": "stream",
     "text": [
      "Optimal threshold for F1-Score: 0.11\n"
     ]
    }
   ],
   "source": [
    "thresholds = np.arange(0.01,1, 0.05)\n",
    "f1_scores = []\n",
    "for t in thresholds:\n",
    "    preds = (raw_preds >= t).astype(int)\n",
    "    f1 = f1_score(y_val, preds)\n",
    "    f1_scores.append(f1)\n",
    "\n",
    "optimal_threshold = thresholds[f1_scores.index(max(f1_scores))]\n",
    "print(f\"Optimal threshold for F1-Score: {optimal_threshold}\")"
   ]
  },
  {
   "cell_type": "code",
   "execution_count": 21,
   "metadata": {},
   "outputs": [
    {
     "data": {
      "image/png": "[encoded data removed]",
      "text/plain": [
       "<Figure size 640x480 with 1 Axes>"
      ]
     },
     "metadata": {},
     "output_type": "display_data"
    }
   ],
   "source": [
    "plt.plot(thresholds, f1_scores)\n",
    "plt.xlabel('Threshold')\n",
    "plt.ylabel('Score')\n",
    "plt.title('F1-Score vs. Threshold')\n",
    "plt.show()"
   ]
  },
  {
   "cell_type": "code",
   "execution_count": null,
   "metadata": {},
   "outputs": [],
   "source": []
  }
 ],
 "metadata": {
  "kernelspec": {
   "display_name": "base",
   "language": "python",
   "name": "python3"
  },
  "language_info": {
   "codemirror_mode": {
    "name": "ipython",
    "version": 3
   },
   "file_extension": ".py",
   "mimetype": "text/x-python",
   "name": "python",
   "nbconvert_exporter": "python",
   "pygments_lexer": "ipython3",
   "version": "3.11.5"
  }
 },
 "nbformat": 4,
 "nbformat_minor": 2
}
