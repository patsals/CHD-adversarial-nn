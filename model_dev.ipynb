{
 "cells": [
  {
   "cell_type": "code",
   "execution_count": null,
   "metadata": {},
   "outputs": [],
   "source": [
    "import tensorflow as tf\n",
    "from tensorflow.keras.models import Sequential\n",
    "from tensorflow.keras.layers import Dense, Dropout\n",
    "from tensorflow.keras.callbacks import EarlyStopping\n",
    "from sklearn.model_selection import train_test_split\n",
    "from sklearn.preprocessing import StandardScaler\n",
    "from sklearn.metrics import classification_report, roc_auc_score,accuracy_score, precision_score, recall_score\n",
    "import pandas as pd\n",
    "import numpy as np\n",
    "from aif360.metrics import ClassificationMetric\n",
    "from aif360.datasets import BinaryLabelDataset\n"
   ]
  },
  {
   "cell_type": "markdown",
   "metadata": {},
   "source": [
    "Load and Pre-processing Data Function\n"
   ]
  },
  {
   "cell_type": "code",
   "execution_count": 3,
   "metadata": {},
   "outputs": [],
   "source": [
    "def process_and_load_data(data, target = str):\n",
    "    #The input should only be a Pandas DataFrame \n",
    "    try:\n",
    "        (data == pd.DataFrame)\n",
    "        X = data.drop(target, axis = 1)\n",
    "        y = data[target]\n",
    "        X_train, X_test, y_train, y_test = train_test_split(X, y, test_size=0.2, random_state=42)\n",
    "        X_train, X_val, y_train, y_val = train_test_split(X_train, y_train, test_size=0.25, random_state=42)\n",
    "\n",
    "        scaler = StandardScaler()\n",
    "        X_train = scaler.fit_transform(X_train)\n",
    "        X_test = scaler.transform(X_test)\n",
    "\n",
    "        return X_train, X_test, X_val, y_train, y_test, y_val\n",
    "    except:\n",
    "        print(\"Input needs to be a Pandas DataFrame.\")\n",
    "\n",
    " \n"
   ]
  },
  {
   "cell_type": "markdown",
   "metadata": {},
   "source": [
    "# Model Accuracy & Fairness Assessment Functions"
   ]
  },
  {
   "cell_type": "markdown",
   "metadata": {},
   "source": [
    "## Function to test the Model's Accuracy"
   ]
  },
  {
   "cell_type": "code",
   "execution_count": null,
   "metadata": {},
   "outputs": [],
   "source": [
    "def model_assessment(input, predictions, actuals):\n",
    "    male_indices = input[input['Gender'] == 1].index.tolist()\n",
    "    female_indices = input[input['Gender'] == 2].index.tolist()\n",
    "\n",
    "    #Overall\n",
    "    overall_accuracy = accuracy_score(actuals, predictions)\n",
    "    overall_recall = recall_score(actuals, predictions)\n",
    "    overall_precision = precision_score(actuals, predictions)\n",
    "\n",
    "    #Female\n",
    "    female_preds = predictions[female_indices]\n",
    "    female_actuals = actuals[female_indices]\n",
    "    female_accuracy = accuracy_score(female_actuals, female_preds)\n",
    "    female_recall = recall_score(female_actuals, female_preds)\n",
    "    female_precision = precision_score(female_actuals, female_preds)\n",
    "\n",
    "    #Male\n",
    "    male_preds = predictions[male_indices]\n",
    "    male_actuals = actuals[male_indices]\n",
    "    male_accuracy = accuracy_score(male_actuals, male_preds)\n",
    "    male_recall = recall_score(male_actuals, male_preds)\n",
    "    male_precision = precision_score(male_actuals, male_preds)\n",
    "\n",
    "    results = pd.DataFrame({\n",
    "        'Group': ['Overall', 'Female', 'Male'],\n",
    "        'Accuracy': [overall_accuracy, female_accuracy, male_accuracy],\n",
    "        'Recall': [overall_recall, female_recall, male_recall],\n",
    "        'Precision': [overall_precision, female_precision, male_precision]\n",
    "    })\n",
    "\n",
    "    return results\n",
    "\n",
    "\n",
    "\n"
   ]
  },
  {
   "cell_type": "markdown",
   "metadata": {},
   "source": [
    "## Function to test the Model's Fairness between Males and Females"
   ]
  },
  {
   "cell_type": "code",
   "execution_count": 8,
   "metadata": {},
   "outputs": [],
   "source": [
    "def fairness_metrics(input_df, predictions):\n",
    "\n",
    "    binary_dataset = BinaryLabelDataset(df=input_df, \n",
    "                                    label_names=['Coronary heart disease'], \n",
    "                                    protected_attribute_names=['Gender'])\n",
    "\n",
    "    # Create predictions dataset\n",
    "    pred_df = input_df.drop(['Coronary heart disease'])\n",
    "    pred_df['Coronary heart disease'] = predictions\n",
    "    binary_predictions = BinaryLabelDataset(df=pred_df, \n",
    "                                            label_names=['Coronary heart disease'], \n",
    "                                            protected_attribute_names=['Gender'])\n",
    "\n",
    "    # Compute metrics\n",
    "    metric = ClassificationMetric(binary_dataset, binary_predictions, \n",
    "                                unprivileged_groups=[{'Gender': 2}], \n",
    "                                privileged_groups=[{'Gender': 1}]) \n",
    "    \n",
    "    demographic_parity_difference = metric.statistical_parity_difference()\n",
    "    equal_opportunity_difference = metric.equal_opportunity_difference()\n",
    "    predictive_parity = metric.statistical_parity_difference()\n",
    "    disparate_impact = metric.disparate_impact()\n",
    "\n",
    "    print(f\"Demographic Parity Difference: {demographic_parity_difference}\")\n",
    "    print(f\"Equal Opportunity Difference: {equal_opportunity_difference}\")\n",
    "    print(f\"Statistic Parity Difference: {predictive_parity}\")\n",
    "    print(f\"Disparate Impact: {disparate_impact}\")\n",
    "   \n"
   ]
  }
 ],
 "metadata": {
  "kernelspec": {
   "display_name": "base",
   "language": "python",
   "name": "python3"
  },
  "language_info": {
   "codemirror_mode": {
    "name": "ipython",
    "version": 3
   },
   "file_extension": ".py",
   "mimetype": "text/x-python",
   "name": "python",
   "nbconvert_exporter": "python",
   "pygments_lexer": "ipython3",
   "version": "3.11.5"
  }
 },
 "nbformat": 4,
 "nbformat_minor": 2
}
