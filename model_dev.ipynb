{
 "cells": [
  {
   "cell_type": "code",
   "execution_count": 6,
   "metadata": {},
   "outputs": [
    {
     "name": "stderr",
     "output_type": "stream",
     "text": [
      "c:\\Users\\Diego\\anaconda3\\Lib\\site-packages\\inFairness\\utils\\ndcg.py:37: FutureWarning: We've integrated functorch into PyTorch. As the final step of the integration, `functorch.vmap` is deprecated as of PyTorch 2.0 and will be deleted in a future version of PyTorch >= 2.3. Please use `torch.vmap` instead; see the PyTorch 2.0 release notes and/or the `torch.func` migration guide for more details https://pytorch.org/docs/main/func.migrating.html\n",
      "  vect_normalized_discounted_cumulative_gain = vmap(\n",
      "c:\\Users\\Diego\\anaconda3\\Lib\\site-packages\\inFairness\\utils\\ndcg.py:48: FutureWarning: We've integrated functorch into PyTorch. As the final step of the integration, `functorch.vmap` is deprecated as of PyTorch 2.0 and will be deleted in a future version of PyTorch >= 2.3. Please use `torch.vmap` instead; see the PyTorch 2.0 release notes and/or the `torch.func` migration guide for more details https://pytorch.org/docs/main/func.migrating.html\n",
      "  monte_carlo_vect_ndcg = vmap(vect_normalized_discounted_cumulative_gain, in_dims=(0,))\n"
     ]
    }
   ],
   "source": [
    "import tensorflow as tf\n",
    "from tensorflow.keras.models import Sequential\n",
    "from tensorflow.keras.layers import Dense, Dropout\n",
    "from tensorflow.keras.callbacks import EarlyStopping\n",
    "from sklearn.model_selection import train_test_split\n",
    "from sklearn.preprocessing import StandardScaler\n",
    "from sklearn.metrics import classification_report, roc_auc_score,accuracy_score, precision_score, recall_score\n",
    "import pandas as pd\n",
    "import numpy as np\n",
    "from aif360.metrics import ClassificationMetric"
   ]
  },
  {
   "cell_type": "markdown",
   "metadata": {},
   "source": [
    "Load and Pre-processing Data Function\n"
   ]
  },
  {
   "cell_type": "code",
   "execution_count": 3,
   "metadata": {},
   "outputs": [],
   "source": [
    "def process_and_load_data(data, target = str):\n",
    "    #The input should only be a Pandas DataFrame \n",
    "    try:\n",
    "        (data == pd.DataFrame)\n",
    "        X = data.drop(target, axis = 1)\n",
    "        y = data[target]\n",
    "        X_train, X_test, y_train, y_test = train_test_split(X, y, test_size=0.2, random_state=42)\n",
    "        X_train, X_val, y_train, y_val = train_test_split(X_train, y_train, test_size=0.25, random_state=42)\n",
    "\n",
    "        scaler = StandardScaler()\n",
    "        X_train = scaler.fit_transform(X_train)\n",
    "        X_test = scaler.transform(X_test)\n",
    "\n",
    "        return X_train, X_test, X_val, y_train, y_test, y_val\n",
    "    except:\n",
    "        print(\"Input needs to be a Pandas DataFrame.\")\n",
    "\n",
    " \n"
   ]
  },
  {
   "cell_type": "markdown",
   "metadata": {},
   "source": [
    "# Model Accuracy & Fairness Assessment Functions"
   ]
  },
  {
   "cell_type": "markdown",
   "metadata": {},
   "source": [
    "## Function to test the Model's Accuracy"
   ]
  },
  {
   "cell_type": "code",
   "execution_count": null,
   "metadata": {},
   "outputs": [],
   "source": [
    "def model_assessment(input, predictions, actuals):\n",
    "    male_indices = input[input['Gender'] == 1].index.tolist()\n",
    "    female_indices = input[input['Gender'] == 2].index.tolist()\n",
    "\n",
    "    #Overall\n",
    "    overall_accuracy = accuracy_score(actuals, predictions)\n",
    "    overall_recall = recall_score(actuals, predictions)\n",
    "    overall_precision = precision_score(actuals, predictions)\n",
    "\n",
    "    #Female\n",
    "    female_preds = predictions[female_indices]\n",
    "    female_actuals = actuals[female_indices]\n",
    "    female_accuracy = accuracy_score(female_actuals, female_preds)\n",
    "    female_recall = recall_score(female_actuals, female_preds)\n",
    "    female_precision = precision_score(female_actuals, female_preds)\n",
    "\n",
    "    #Male\n",
    "    male_preds = predictions[male_indices]\n",
    "    male_actuals = actuals[male_indices]\n",
    "    male_accuracy = accuracy_score(male_actuals, male_preds)\n",
    "    male_recall = recall_score(male_actuals, male_preds)\n",
    "    male_precision = precision_score(male_actuals, male_preds)\n",
    "\n",
    "    results = pd.DataFrame({\n",
    "        'Group': ['Overall', 'Female', 'Male'],\n",
    "        'Accuracy': [overall_accuracy, female_accuracy, male_accuracy],\n",
    "        'Recall': [overall_recall, female_recall, male_recall],\n",
    "        'Precision': [overall_precision, female_precision, male_precision]\n",
    "    })\n",
    "\n",
    "    return results\n",
    "\n",
    "\n",
    "\n"
   ]
  },
  {
   "cell_type": "markdown",
   "metadata": {},
   "source": [
    "## Function to test the Model's Fairness between Males and Females"
   ]
  },
  {
   "cell_type": "markdown",
   "metadata": {},
   "source": []
  }
 ],
 "metadata": {
  "kernelspec": {
   "display_name": "base",
   "language": "python",
   "name": "python3"
  },
  "language_info": {
   "codemirror_mode": {
    "name": "ipython",
    "version": 3
   },
   "file_extension": ".py",
   "mimetype": "text/x-python",
   "name": "python",
   "nbconvert_exporter": "python",
   "pygments_lexer": "ipython3",
   "version": "3.11.5"
  }
 },
 "nbformat": 4,
 "nbformat_minor": 2
}
